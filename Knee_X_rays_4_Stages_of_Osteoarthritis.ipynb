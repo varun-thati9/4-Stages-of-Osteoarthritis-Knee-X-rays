{
  "nbformat": 4,
  "nbformat_minor": 0,
  "metadata": {
    "colab": {
      "provenance": [],
      "gpuType": "T4"
    },
    "kernelspec": {
      "name": "python3",
      "display_name": "Python 3"
    },
    "language_info": {
      "name": "python"
    },
    "accelerator": "GPU"
  },
  "cells": [
    {
      "cell_type": "code",
      "execution_count": 1,
      "metadata": {
        "id": "08thY4dtokpR"
      },
      "outputs": [],
      "source": [
        "!pip install -q kaggle"
      ]
    },
    {
      "cell_type": "code",
      "source": [
        "!mkdir ~/.kaggle"
      ],
      "metadata": {
        "id": "MsxrxjHsowbJ"
      },
      "execution_count": 2,
      "outputs": []
    },
    {
      "cell_type": "code",
      "source": [
        "!cp kaggle.json ~/.kaggle"
      ],
      "metadata": {
        "id": "ljM96Xk-owYw"
      },
      "execution_count": 3,
      "outputs": []
    },
    {
      "cell_type": "code",
      "source": [
        "!kaggle datasets download -d trainingdatapro/knee-x-rays-4-stages-of-osteoarthritis"
      ],
      "metadata": {
        "colab": {
          "base_uri": "https://localhost:8080/"
        },
        "id": "97GZmJnxowUe",
        "outputId": "58c02258-7177-4f85-f279-afa336150250"
      },
      "execution_count": 4,
      "outputs": [
        {
          "output_type": "stream",
          "name": "stdout",
          "text": [
            "Warning: Your Kaggle API key is readable by other users on this system! To fix this, you can run 'chmod 600 /root/.kaggle/kaggle.json'\n",
            "Downloading knee-x-rays-4-stages-of-osteoarthritis.zip to /content\n",
            " 99% 391M/395M [00:12<00:00, 37.2MB/s]\n",
            "100% 395M/395M [00:12<00:00, 32.9MB/s]\n"
          ]
        }
      ]
    },
    {
      "cell_type": "code",
      "source": [
        "!unzip /content/knee-x-rays-4-stages-of-osteoarthritis.zip"
      ],
      "metadata": {
        "colab": {
          "base_uri": "https://localhost:8080/"
        },
        "id": "Eh5snJ5gowRx",
        "outputId": "7c9a09ac-3da6-4e72-ffd3-1e5118cdf8f3"
      },
      "execution_count": 5,
      "outputs": [
        {
          "output_type": "stream",
          "name": "stdout",
          "text": [
            "Archive:  /content/knee-x-rays-4-stages-of-osteoarthritis.zip\n",
            "  inflating: files/arthritis/0.dcm   \n",
            "  inflating: files/arthritis/0.jpg   \n",
            "  inflating: files/arthritis/1.dcm   \n",
            "  inflating: files/arthritis/1.jpg   \n",
            "  inflating: files/arthritis/2.dcm   \n",
            "  inflating: files/arthritis/2.jpg   \n",
            "  inflating: files/arthritis/3.dcm   \n",
            "  inflating: files/arthritis/3.jpg   \n",
            "  inflating: files/arthritis/4.dcm   \n",
            "  inflating: files/arthritis/4.jpg   \n",
            "  inflating: files/arthritis/5.dcm   \n",
            "  inflating: files/arthritis/5.jpg   \n",
            "  inflating: files/arthritis/6.dcm   \n",
            "  inflating: files/arthritis/6.jpg   \n",
            "  inflating: files/arthritis/7.dcm   \n",
            "  inflating: files/arthritis/7.jpg   \n",
            "  inflating: files/arthritis/8.dcm   \n",
            "  inflating: files/arthritis/8.jpg   \n",
            "  inflating: files/fracture/0.dcm    \n",
            "  inflating: files/fracture/0.jpg    \n",
            "  inflating: files/fracture/1.dcm    \n",
            "  inflating: files/fracture/1.jpg    \n",
            "  inflating: files/fracture/2.dcm    \n",
            "  inflating: files/fracture/2.jpg    \n",
            "  inflating: files/fracture/3.dcm    \n",
            "  inflating: files/fracture/3.jpg    \n",
            "  inflating: files/fracture/4.dcm    \n",
            "  inflating: files/fracture/4.jpg    \n",
            "  inflating: files/fracture/5.dcm    \n",
            "  inflating: files/fracture/5.jpg    \n",
            "  inflating: files/fracture/6.dcm    \n",
            "  inflating: files/fracture/6.jpg    \n",
            "  inflating: files/fracture/7.dcm    \n",
            "  inflating: files/fracture/7.jpg    \n",
            "  inflating: files/stage_1/0.dcm     \n",
            "  inflating: files/stage_1/0.jpg     \n",
            "  inflating: files/stage_1/1.dcm     \n",
            "  inflating: files/stage_1/1.jpg     \n",
            "  inflating: files/stage_1/2.dcm     \n",
            "  inflating: files/stage_1/2.jpg     \n",
            "  inflating: files/stage_1/3.dcm     \n",
            "  inflating: files/stage_1/3.jpg     \n",
            "  inflating: files/stage_1/4.dcm     \n",
            "  inflating: files/stage_1/4.jpg     \n",
            "  inflating: files/stage_1/5.dcm     \n",
            "  inflating: files/stage_1/5.jpg     \n",
            "  inflating: files/stage_1/6.dcm     \n",
            "  inflating: files/stage_1/6.jpg     \n",
            "  inflating: files/stage_2/0.dcm     \n",
            "  inflating: files/stage_2/0.jpg     \n",
            "  inflating: files/stage_2/1.dcm     \n",
            "  inflating: files/stage_2/1.jpg     \n",
            "  inflating: files/stage_2/2.dcm     \n",
            "  inflating: files/stage_2/2.jpg     \n",
            "  inflating: files/stage_2/3.dcm     \n",
            "  inflating: files/stage_2/3.jpg     \n",
            "  inflating: files/stage_2/4.dcm     \n",
            "  inflating: files/stage_2/4.jpg     \n",
            "  inflating: files/stage_2/5.dcm     \n",
            "  inflating: files/stage_2/5.jpg     \n",
            "  inflating: files/stage_2/6.dcm     \n",
            "  inflating: files/stage_2/6.jpg     \n",
            "  inflating: files/stage_2/7.dcm     \n",
            "  inflating: files/stage_2/7.jpg     \n",
            "  inflating: files/stage_2/8.dcm     \n",
            "  inflating: files/stage_2/8.jpg     \n",
            "  inflating: files/stage_2/9.dcm     \n",
            "  inflating: files/stage_2/9.jpg     \n",
            "  inflating: files/stage_3/0.dcm     \n",
            "  inflating: files/stage_3/0.jpg     \n",
            "  inflating: files/stage_3/1.dcm     \n",
            "  inflating: files/stage_3/1.jpg     \n",
            "  inflating: files/stage_3/2.dcm     \n",
            "  inflating: files/stage_3/2.jpg     \n",
            "  inflating: files/stage_3/3.dcm     \n",
            "  inflating: files/stage_3/3.jpg     \n",
            "  inflating: files/stage_3/4.dcm     \n",
            "  inflating: files/stage_3/4.jpg     \n",
            "  inflating: files/stage_3/5.dcm     \n",
            "  inflating: files/stage_3/5.jpg     \n",
            "  inflating: files/stage_3/6.dcm     \n",
            "  inflating: files/stage_3/6.jpg     \n",
            "  inflating: files/stage_3/7.dcm     \n",
            "  inflating: files/stage_3/7.jpg     \n",
            "  inflating: files/stage_4/0.dcm     \n",
            "  inflating: files/stage_4/0.jpg     \n",
            "  inflating: files/stage_4/1.dcm     \n",
            "  inflating: files/stage_4/1.jpg     \n",
            "  inflating: files/stage_4/2.dcm     \n",
            "  inflating: files/stage_4/2.jpg     \n",
            "  inflating: files/stage_4/3.dcm     \n",
            "  inflating: files/stage_4/3.jpg     \n",
            "  inflating: files/stage_4/4.dcm     \n",
            "  inflating: files/stage_4/4.jpg     \n",
            "  inflating: files/stage_4/5.dcm     \n",
            "  inflating: files/stage_4/5.jpg     \n",
            "  inflating: files/stage_4/6.dcm     \n",
            "  inflating: files/stage_4/6.jpg     \n",
            "  inflating: files/stage_4/7.dcm     \n",
            "  inflating: files/stage_4/7.jpg     \n",
            "  inflating: xray_knees.csv          \n"
          ]
        }
      ]
    },
    {
      "cell_type": "code",
      "source": [
        "import os\n",
        "import shutil\n",
        "from tensorflow.keras.preprocessing.image import ImageDataGenerator\n",
        "from sklearn.model_selection import train_test_split\n",
        "import shutil\n",
        "from sklearn.model_selection import train_test_split\n",
        "from tensorflow.keras.applications.vgg16 import VGG16\n",
        "from tensorflow.keras.layers import Dense, Flatten\n",
        "from tensorflow.keras.models import Model\n",
        "from keras.optimizers import Adam\n",
        "from tensorflow.keras.applications.resnet50 import ResNet50\n",
        "from tensorflow.keras.layers import Dense, Flatten\n",
        "from tensorflow.keras.models import Model\n",
        "from keras.preprocessing import image\n",
        "from keras.applications.vgg16 import preprocess_input\n",
        "from tensorflow.keras.preprocessing.image import load_img, img_to_array"
      ],
      "metadata": {
        "id": "C0OUlt6-owKx"
      },
      "execution_count": 6,
      "outputs": []
    },
    {
      "cell_type": "code",
      "source": [
        "!pip install Augmentor"
      ],
      "metadata": {
        "colab": {
          "base_uri": "https://localhost:8080/"
        },
        "id": "iC6khwQ3nv5a",
        "outputId": "7e5da4b0-e921-466d-9ba6-161fa7949915"
      },
      "execution_count": 8,
      "outputs": [
        {
          "output_type": "stream",
          "name": "stdout",
          "text": [
            "Collecting Augmentor\n",
            "  Downloading Augmentor-0.2.12-py2.py3-none-any.whl (38 kB)\n",
            "Requirement already satisfied: Pillow>=5.2.0 in /usr/local/lib/python3.10/dist-packages (from Augmentor) (9.4.0)\n",
            "Requirement already satisfied: tqdm>=4.9.0 in /usr/local/lib/python3.10/dist-packages (from Augmentor) (4.66.1)\n",
            "Requirement already satisfied: numpy>=1.11.0 in /usr/local/lib/python3.10/dist-packages (from Augmentor) (1.23.5)\n",
            "Installing collected packages: Augmentor\n",
            "Successfully installed Augmentor-0.2.12\n"
          ]
        }
      ]
    },
    {
      "cell_type": "code",
      "source": [
        "import Augmentor\n",
        "\n",
        "p = Augmentor.Pipeline(r\"/content/files\")\n",
        "\n",
        "p.zoom(probability=0.3, min_factor=0.8, max_factor=1.5)\n",
        "p.flip_top_bottom(probability=0.4)\n",
        "p.random_brightness (probability=0.3,min_factor=0.3,max_factor=1.2)\n",
        "p.random_distortion(probability=1, grid_width=4, grid_height=4, magnitude=8)\n",
        "p.sample(500)"
      ],
      "metadata": {
        "colab": {
          "base_uri": "https://localhost:8080/"
        },
        "id": "4gm24i8qnl_p",
        "outputId": "b1014fd4-334b-4551-894d-48bce0c2faa3"
      },
      "execution_count": 9,
      "outputs": [
        {
          "output_type": "stream",
          "name": "stdout",
          "text": [
            "Initialised with 50 image(s) found.\n",
            "Output directory set to /content/files/output."
          ]
        },
        {
          "output_type": "stream",
          "name": "stderr",
          "text": [
            "Processing <PIL.Image.Image image mode=RGB size=3072x2560 at 0x7EF5D2BF7040>: 100%|██████████| 500/500 [05:39<00:00,  1.47 Samples/s]\n"
          ]
        }
      ]
    },
    {
      "cell_type": "code",
      "source": [
        "import os\n",
        "import shutil\n",
        "from sklearn.model_selection import train_test_split\n",
        "\n",
        "# Define the path to your original image dataset\n",
        "dataset_path = '/content/files/output'\n",
        "\n",
        "# Define the paths for the train, test, and valid folders\n",
        "train_path = '/content/train'\n",
        "test_path = '/content/test'\n",
        "#valid_path = '/content/valid'\n",
        "\n",
        "# Create the train, test, and valid folders if they don't exist\n",
        "os.makedirs(train_path, exist_ok=True)\n",
        "os.makedirs(test_path, exist_ok=True)\n",
        "#os.makedirs(valid_path, exist_ok=True)\n",
        "\n",
        "# Get the list of classes (subdirectories) in the dataset\n",
        "classes = os.listdir(dataset_path)\n",
        "\n",
        "# Iterate over each class\n",
        "for class_name in classes:\n",
        "    class_path = os.path.join(dataset_path, class_name)\n",
        "    class_images = [os.path.join(class_path, img) for img in os.listdir(class_path)]\n",
        "\n",
        "    # Split the images into training, testing, and validation sets\n",
        "    train_images, test_images = train_test_split(class_images, test_size=0.3, random_state=42)\n",
        "    #valid_images, test_images = train_test_split(temp_images, test_size=0.5, random_state=42)\n",
        "\n",
        "    # Define the paths for the train, test, and valid sets for the current class\n",
        "    train_class_path = os.path.join(train_path, class_name)\n",
        "    test_class_path = os.path.join(test_path, class_name)\n",
        "    #valid_class_path = os.path.join(valid_path, class_name)\n",
        "\n",
        "    # Create the train, test, and valid class folders if they don't exist\n",
        "    os.makedirs(train_class_path, exist_ok=True)\n",
        "    os.makedirs(test_class_path, exist_ok=True)\n",
        "    #os.makedirs(valid_class_path, exist_ok=True)\n",
        "\n",
        "    # Copy images to their respective folders\n",
        "    for img_path in train_images:\n",
        "        shutil.copy(img_path, os.path.join(train_class_path, os.path.basename(img_path)))\n",
        "\n",
        "    for img_path in test_images:\n",
        "        shutil.copy(img_path, os.path.join(test_class_path, os.path.basename(img_path)))\n",
        "\n",
        "    #for img_path in valid_images:\n",
        "        #shutil.copy(img_path, os.path.join(valid_class_path, os.path.basename(img_path)))"
      ],
      "metadata": {
        "id": "x3h25S8LowDd"
      },
      "execution_count": 10,
      "outputs": []
    },
    {
      "cell_type": "code",
      "source": [
        "trainpath = '/content/train'\n",
        "testpath = '/content/test'"
      ],
      "metadata": {
        "id": "gwRr79YPowAn"
      },
      "execution_count": 11,
      "outputs": []
    },
    {
      "cell_type": "code",
      "source": [
        "train_datagen = ImageDataGenerator(rescale = 1./255,zoom_range= 0.2,shear_range= 0.2)\n",
        "test_datagen = ImageDataGenerator(rescale = 1./255)"
      ],
      "metadata": {
        "id": "4q4HlEN-ov99"
      },
      "execution_count": 12,
      "outputs": []
    },
    {
      "cell_type": "code",
      "source": [
        "train = train_datagen.flow_from_directory(trainpath,target_size =(224,224),batch_size = 20)\n",
        "test = test_datagen.flow_from_directory(testpath,target_size =(224,224),batch_size = 20) ,#5 ,15 , 32, 50"
      ],
      "metadata": {
        "colab": {
          "base_uri": "https://localhost:8080/"
        },
        "id": "GoSUHRaNov70",
        "outputId": "25ea2914-e7c5-46c7-9d25-f9dc76e3acd4"
      },
      "execution_count": 13,
      "outputs": [
        {
          "output_type": "stream",
          "name": "stdout",
          "text": [
            "Found 348 images belonging to 6 classes.\n",
            "Found 152 images belonging to 6 classes.\n"
          ]
        }
      ]
    },
    {
      "cell_type": "markdown",
      "source": [
        "## VGG 16"
      ],
      "metadata": {
        "id": "7Q7bkUGFtmFD"
      }
    },
    {
      "cell_type": "code",
      "source": [
        "from tensorflow.keras.applications.vgg16 import VGG16\n",
        "from tensorflow.keras.layers import Dense, Flatten\n",
        "from tensorflow.keras.models import Model"
      ],
      "metadata": {
        "id": "IE7IK_Viov5H"
      },
      "execution_count": 14,
      "outputs": []
    },
    {
      "cell_type": "code",
      "source": [
        "vgg = VGG16(include_top = False,input_shape = (224,224,3))"
      ],
      "metadata": {
        "colab": {
          "base_uri": "https://localhost:8080/"
        },
        "id": "CFtOkTOHov2t",
        "outputId": "e3b91605-924d-41ff-c6c4-14e27c8380cb"
      },
      "execution_count": 15,
      "outputs": [
        {
          "output_type": "stream",
          "name": "stdout",
          "text": [
            "Downloading data from https://storage.googleapis.com/tensorflow/keras-applications/vgg16/vgg16_weights_tf_dim_ordering_tf_kernels_notop.h5\n",
            "58889256/58889256 [==============================] - 2s 0us/step\n"
          ]
        }
      ]
    },
    {
      "cell_type": "code",
      "source": [
        "for layer in vgg.layers:\n",
        "  print(layer)"
      ],
      "metadata": {
        "colab": {
          "base_uri": "https://localhost:8080/"
        },
        "id": "SEShDvJ8ov0a",
        "outputId": "c6c9aa24-4478-4459-d58a-a389947288fb"
      },
      "execution_count": 16,
      "outputs": [
        {
          "output_type": "stream",
          "name": "stdout",
          "text": [
            "<keras.src.engine.input_layer.InputLayer object at 0x7ef5d2d55a20>\n",
            "<keras.src.layers.convolutional.conv2d.Conv2D object at 0x7ef5d2bf6440>\n",
            "<keras.src.layers.convolutional.conv2d.Conv2D object at 0x7ef5d2bf6e90>\n",
            "<keras.src.layers.pooling.max_pooling2d.MaxPooling2D object at 0x7ef5d2bd8af0>\n",
            "<keras.src.layers.convolutional.conv2d.Conv2D object at 0x7ef5d2bf40a0>\n",
            "<keras.src.layers.convolutional.conv2d.Conv2D object at 0x7ef5d2bd9a80>\n",
            "<keras.src.layers.pooling.max_pooling2d.MaxPooling2D object at 0x7ef5d2ba9720>\n",
            "<keras.src.layers.convolutional.conv2d.Conv2D object at 0x7ef5dc809fc0>\n",
            "<keras.src.layers.convolutional.conv2d.Conv2D object at 0x7ef5d59bb820>\n",
            "<keras.src.layers.convolutional.conv2d.Conv2D object at 0x7ef5d2bf74c0>\n",
            "<keras.src.layers.pooling.max_pooling2d.MaxPooling2D object at 0x7ef5d2b4eec0>\n",
            "<keras.src.layers.convolutional.conv2d.Conv2D object at 0x7ef5d2b77a30>\n",
            "<keras.src.layers.convolutional.conv2d.Conv2D object at 0x7ef5d2b76a10>\n",
            "<keras.src.layers.convolutional.conv2d.Conv2D object at 0x7ef5d2bf6fe0>\n",
            "<keras.src.layers.pooling.max_pooling2d.MaxPooling2D object at 0x7ef5d2b4f430>\n",
            "<keras.src.layers.convolutional.conv2d.Conv2D object at 0x7ef5d2bab880>\n",
            "<keras.src.layers.convolutional.conv2d.Conv2D object at 0x7ef5d2b33c10>\n",
            "<keras.src.layers.convolutional.conv2d.Conv2D object at 0x7ef5d2b75420>\n",
            "<keras.src.layers.pooling.max_pooling2d.MaxPooling2D object at 0x7ef5c837bd90>\n"
          ]
        }
      ]
    },
    {
      "cell_type": "code",
      "source": [
        "len(vgg.layers)"
      ],
      "metadata": {
        "colab": {
          "base_uri": "https://localhost:8080/"
        },
        "id": "C0biQW8Lovxv",
        "outputId": "a305f8a2-8c51-435b-bb40-383b58ab4150"
      },
      "execution_count": 17,
      "outputs": [
        {
          "output_type": "execute_result",
          "data": {
            "text/plain": [
              "19"
            ]
          },
          "metadata": {},
          "execution_count": 17
        }
      ]
    },
    {
      "cell_type": "code",
      "source": [
        "for layer in vgg.layers:\n",
        "  layer.trainable = False"
      ],
      "metadata": {
        "id": "OHnSdE9zovvi"
      },
      "execution_count": 18,
      "outputs": []
    },
    {
      "cell_type": "code",
      "source": [
        "x= Flatten()(vgg.output)"
      ],
      "metadata": {
        "id": "U7w5LMTyovtB"
      },
      "execution_count": 19,
      "outputs": []
    },
    {
      "cell_type": "code",
      "source": [
        "output = Dense(6, activation ='softmax')(x)"
      ],
      "metadata": {
        "id": "Of63SlLytx3l"
      },
      "execution_count": 20,
      "outputs": []
    },
    {
      "cell_type": "code",
      "source": [
        "vgg16 = Model(vgg.input,output)"
      ],
      "metadata": {
        "id": "2Gqj0qXytx1j"
      },
      "execution_count": 21,
      "outputs": []
    },
    {
      "cell_type": "code",
      "source": [
        "vgg16.summary()"
      ],
      "metadata": {
        "colab": {
          "base_uri": "https://localhost:8080/"
        },
        "id": "BMI0Cnyqtxy9",
        "outputId": "78b1b942-6bda-43e1-847a-33f9bcbe6499"
      },
      "execution_count": 22,
      "outputs": [
        {
          "output_type": "stream",
          "name": "stdout",
          "text": [
            "Model: \"model\"\n",
            "_________________________________________________________________\n",
            " Layer (type)                Output Shape              Param #   \n",
            "=================================================================\n",
            " input_1 (InputLayer)        [(None, 224, 224, 3)]     0         \n",
            "                                                                 \n",
            " block1_conv1 (Conv2D)       (None, 224, 224, 64)      1792      \n",
            "                                                                 \n",
            " block1_conv2 (Conv2D)       (None, 224, 224, 64)      36928     \n",
            "                                                                 \n",
            " block1_pool (MaxPooling2D)  (None, 112, 112, 64)      0         \n",
            "                                                                 \n",
            " block2_conv1 (Conv2D)       (None, 112, 112, 128)     73856     \n",
            "                                                                 \n",
            " block2_conv2 (Conv2D)       (None, 112, 112, 128)     147584    \n",
            "                                                                 \n",
            " block2_pool (MaxPooling2D)  (None, 56, 56, 128)       0         \n",
            "                                                                 \n",
            " block3_conv1 (Conv2D)       (None, 56, 56, 256)       295168    \n",
            "                                                                 \n",
            " block3_conv2 (Conv2D)       (None, 56, 56, 256)       590080    \n",
            "                                                                 \n",
            " block3_conv3 (Conv2D)       (None, 56, 56, 256)       590080    \n",
            "                                                                 \n",
            " block3_pool (MaxPooling2D)  (None, 28, 28, 256)       0         \n",
            "                                                                 \n",
            " block4_conv1 (Conv2D)       (None, 28, 28, 512)       1180160   \n",
            "                                                                 \n",
            " block4_conv2 (Conv2D)       (None, 28, 28, 512)       2359808   \n",
            "                                                                 \n",
            " block4_conv3 (Conv2D)       (None, 28, 28, 512)       2359808   \n",
            "                                                                 \n",
            " block4_pool (MaxPooling2D)  (None, 14, 14, 512)       0         \n",
            "                                                                 \n",
            " block5_conv1 (Conv2D)       (None, 14, 14, 512)       2359808   \n",
            "                                                                 \n",
            " block5_conv2 (Conv2D)       (None, 14, 14, 512)       2359808   \n",
            "                                                                 \n",
            " block5_conv3 (Conv2D)       (None, 14, 14, 512)       2359808   \n",
            "                                                                 \n",
            " block5_pool (MaxPooling2D)  (None, 7, 7, 512)         0         \n",
            "                                                                 \n",
            " flatten (Flatten)           (None, 25088)             0         \n",
            "                                                                 \n",
            " dense (Dense)               (None, 6)                 150534    \n",
            "                                                                 \n",
            "=================================================================\n",
            "Total params: 14865222 (56.71 MB)\n",
            "Trainable params: 150534 (588.02 KB)\n",
            "Non-trainable params: 14714688 (56.13 MB)\n",
            "_________________________________________________________________\n"
          ]
        }
      ]
    },
    {
      "cell_type": "code",
      "source": [
        "from keras.callbacks import EarlyStopping\n",
        "from keras.optimizers import Adam\n",
        "opt = Adam(lr=0.0001)\n",
        "\n",
        "# Assuming you have defined your VGG16 model as vgg16\n",
        "\n",
        "# Define Early Stopping callback\n",
        "early_stopping = EarlyStopping(monitor='val_accuracy', patience=3, restore_best_weights=True)\n",
        "\n",
        "# Compile the model (you may have already done this)\n",
        "vgg16.compile(optimizer=opt , loss='categorical_crossentropy', metrics=['accuracy'])\n",
        "\n",
        "# Train the model with early stopping callback\n",
        "history = vgg16.fit(train, validation_data=test, epochs=50, steps_per_epoch=len(train), validation_steps=len(test), callbacks=[early_stopping])"
      ],
      "metadata": {
        "colab": {
          "base_uri": "https://localhost:8080/"
        },
        "id": "_pZoBmluNBTS",
        "outputId": "f8e02675-de85-4edb-a6b3-eab3b421670b"
      },
      "execution_count": 23,
      "outputs": [
        {
          "output_type": "stream",
          "name": "stderr",
          "text": [
            "WARNING:absl:`lr` is deprecated in Keras optimizer, please use `learning_rate` or use the legacy optimizer, e.g.,tf.keras.optimizers.legacy.Adam.\n"
          ]
        },
        {
          "output_type": "stream",
          "name": "stdout",
          "text": [
            "Epoch 1/50\n",
            "18/18 [==============================] - 29s 999ms/step - loss: 1.7572 - accuracy: 0.4195 - val_loss: 1.0095 - val_accuracy: 0.6000\n",
            "Epoch 2/50\n",
            "18/18 [==============================] - 15s 821ms/step - loss: 0.7122 - accuracy: 0.7730 - val_loss: 0.7174 - val_accuracy: 0.7000\n",
            "Epoch 3/50\n",
            "18/18 [==============================] - 15s 851ms/step - loss: 0.5040 - accuracy: 0.8247 - val_loss: 0.6179 - val_accuracy: 0.7500\n",
            "Epoch 4/50\n",
            "18/18 [==============================] - 16s 867ms/step - loss: 0.3267 - accuracy: 0.9023 - val_loss: 0.4817 - val_accuracy: 0.9000\n",
            "Epoch 5/50\n",
            "18/18 [==============================] - 14s 796ms/step - loss: 0.2270 - accuracy: 0.9569 - val_loss: 0.3426 - val_accuracy: 0.9000\n",
            "Epoch 6/50\n",
            "18/18 [==============================] - 17s 956ms/step - loss: 0.1812 - accuracy: 0.9828 - val_loss: 0.3322 - val_accuracy: 0.9000\n",
            "Epoch 7/50\n",
            "18/18 [==============================] - 16s 868ms/step - loss: 0.1400 - accuracy: 0.9885 - val_loss: 0.1885 - val_accuracy: 1.0000\n",
            "Epoch 8/50\n",
            "18/18 [==============================] - 15s 841ms/step - loss: 0.1111 - accuracy: 0.9914 - val_loss: 0.1814 - val_accuracy: 0.9500\n",
            "Epoch 9/50\n",
            "18/18 [==============================] - 15s 825ms/step - loss: 0.1169 - accuracy: 0.9828 - val_loss: 0.4024 - val_accuracy: 0.9000\n",
            "Epoch 10/50\n",
            "18/18 [==============================] - 15s 820ms/step - loss: 0.1212 - accuracy: 0.9741 - val_loss: 0.1944 - val_accuracy: 0.9000\n"
          ]
        }
      ]
    },
    {
      "cell_type": "code",
      "source": [
        "vgg16.summary()"
      ],
      "metadata": {
        "colab": {
          "base_uri": "https://localhost:8080/"
        },
        "id": "Uq1M5T_vyiKa",
        "outputId": "cdce0679-fb46-4a0e-aa44-8070ca556d54"
      },
      "execution_count": 24,
      "outputs": [
        {
          "output_type": "stream",
          "name": "stdout",
          "text": [
            "Model: \"model\"\n",
            "_________________________________________________________________\n",
            " Layer (type)                Output Shape              Param #   \n",
            "=================================================================\n",
            " input_1 (InputLayer)        [(None, 224, 224, 3)]     0         \n",
            "                                                                 \n",
            " block1_conv1 (Conv2D)       (None, 224, 224, 64)      1792      \n",
            "                                                                 \n",
            " block1_conv2 (Conv2D)       (None, 224, 224, 64)      36928     \n",
            "                                                                 \n",
            " block1_pool (MaxPooling2D)  (None, 112, 112, 64)      0         \n",
            "                                                                 \n",
            " block2_conv1 (Conv2D)       (None, 112, 112, 128)     73856     \n",
            "                                                                 \n",
            " block2_conv2 (Conv2D)       (None, 112, 112, 128)     147584    \n",
            "                                                                 \n",
            " block2_pool (MaxPooling2D)  (None, 56, 56, 128)       0         \n",
            "                                                                 \n",
            " block3_conv1 (Conv2D)       (None, 56, 56, 256)       295168    \n",
            "                                                                 \n",
            " block3_conv2 (Conv2D)       (None, 56, 56, 256)       590080    \n",
            "                                                                 \n",
            " block3_conv3 (Conv2D)       (None, 56, 56, 256)       590080    \n",
            "                                                                 \n",
            " block3_pool (MaxPooling2D)  (None, 28, 28, 256)       0         \n",
            "                                                                 \n",
            " block4_conv1 (Conv2D)       (None, 28, 28, 512)       1180160   \n",
            "                                                                 \n",
            " block4_conv2 (Conv2D)       (None, 28, 28, 512)       2359808   \n",
            "                                                                 \n",
            " block4_conv3 (Conv2D)       (None, 28, 28, 512)       2359808   \n",
            "                                                                 \n",
            " block4_pool (MaxPooling2D)  (None, 14, 14, 512)       0         \n",
            "                                                                 \n",
            " block5_conv1 (Conv2D)       (None, 14, 14, 512)       2359808   \n",
            "                                                                 \n",
            " block5_conv2 (Conv2D)       (None, 14, 14, 512)       2359808   \n",
            "                                                                 \n",
            " block5_conv3 (Conv2D)       (None, 14, 14, 512)       2359808   \n",
            "                                                                 \n",
            " block5_pool (MaxPooling2D)  (None, 7, 7, 512)         0         \n",
            "                                                                 \n",
            " flatten (Flatten)           (None, 25088)             0         \n",
            "                                                                 \n",
            " dense (Dense)               (None, 6)                 150534    \n",
            "                                                                 \n",
            "=================================================================\n",
            "Total params: 14865222 (56.71 MB)\n",
            "Trainable params: 150534 (588.02 KB)\n",
            "Non-trainable params: 14714688 (56.13 MB)\n",
            "_________________________________________________________________\n"
          ]
        }
      ]
    },
    {
      "cell_type": "code",
      "source": [
        "len(train)"
      ],
      "metadata": {
        "colab": {
          "base_uri": "https://localhost:8080/"
        },
        "id": "Xk1JAtqltxph",
        "outputId": "17885f62-0dca-4b96-9f90-954c2853e617"
      },
      "execution_count": 25,
      "outputs": [
        {
          "output_type": "execute_result",
          "data": {
            "text/plain": [
              "18"
            ]
          },
          "metadata": {},
          "execution_count": 25
        }
      ]
    },
    {
      "cell_type": "code",
      "source": [
        "len(test)"
      ],
      "metadata": {
        "colab": {
          "base_uri": "https://localhost:8080/"
        },
        "id": "f8rtowLRtxnW",
        "outputId": "c9b0b11b-c456-448a-96bb-9195885d3f2d"
      },
      "execution_count": 26,
      "outputs": [
        {
          "output_type": "execute_result",
          "data": {
            "text/plain": [
              "1"
            ]
          },
          "metadata": {},
          "execution_count": 26
        }
      ]
    },
    {
      "cell_type": "markdown",
      "source": [
        "# save file .h5"
      ],
      "metadata": {
        "id": "-CQmA9mhrBOh"
      }
    },
    {
      "cell_type": "code",
      "source": [
        "vgg16.save('cnn_vgg16_Knee.h5')"
      ],
      "metadata": {
        "colab": {
          "base_uri": "https://localhost:8080/"
        },
        "id": "8qTwtRS1txiW",
        "outputId": "ea78830a-559f-4c44-879b-4f66965e40d5"
      },
      "execution_count": 27,
      "outputs": [
        {
          "output_type": "stream",
          "name": "stderr",
          "text": [
            "/usr/local/lib/python3.10/dist-packages/keras/src/engine/training.py:3079: UserWarning: You are saving your model as an HDF5 file via `model.save()`. This file format is considered legacy. We recommend using instead the native Keras format, e.g. `model.save('my_model.keras')`.\n",
            "  saving_api.save_model(\n"
          ]
        }
      ]
    },
    {
      "cell_type": "markdown",
      "source": [
        "# Testing the Data"
      ],
      "metadata": {
        "id": "1FkLC8WssBx1"
      }
    },
    {
      "cell_type": "code",
      "source": [
        "from keras.preprocessing import image\n",
        "from keras.applications.vgg16 import preprocess_input\n",
        "from tensorflow.keras.preprocessing.image import load_img, img_to_array"
      ],
      "metadata": {
        "id": "59h1_kcQtxf9"
      },
      "execution_count": 28,
      "outputs": []
    },
    {
      "cell_type": "code",
      "source": [
        "labels=['arthritis','fracture','stage_1','stage_2','stage_3','stage_4']"
      ],
      "metadata": {
        "id": "OYan1esYtxdA"
      },
      "execution_count": 29,
      "outputs": []
    },
    {
      "cell_type": "markdown",
      "source": [
        "# Testing Class 1"
      ],
      "metadata": {
        "id": "hX1AlYdosV7K"
      }
    },
    {
      "cell_type": "code",
      "source": [
        "img_path ='/content/test/arthritis/arthritis_original_0.jpg_ab6b4f93-ee40-4418-a016-e1e8e0aae3d4.jpg'"
      ],
      "metadata": {
        "id": "Gg_ArTOVsWt-"
      },
      "execution_count": 33,
      "outputs": []
    },
    {
      "cell_type": "code",
      "source": [
        "import numpy as np\n",
        "img = load_img(img_path, target_size=(224, 224))\n",
        "x = img_to_array(img)\n",
        "x = preprocess_input(x)\n",
        "preds = vgg16.predict(np.array([x]))\n",
        "preds"
      ],
      "metadata": {
        "colab": {
          "base_uri": "https://localhost:8080/"
        },
        "id": "uvAADBtSsasQ",
        "outputId": "e1959a35-a3c5-4aa8-9dfc-797f11e37699"
      },
      "execution_count": 34,
      "outputs": [
        {
          "output_type": "stream",
          "name": "stdout",
          "text": [
            "1/1 [==============================] - 0s 18ms/step\n"
          ]
        },
        {
          "output_type": "execute_result",
          "data": {
            "text/plain": [
              "array([[1.0000000e+00, 0.0000000e+00, 0.0000000e+00, 0.0000000e+00,\n",
              "        1.5455692e-34, 0.0000000e+00]], dtype=float32)"
            ]
          },
          "metadata": {},
          "execution_count": 34
        }
      ]
    },
    {
      "cell_type": "code",
      "source": [
        "labels[np.argmax(preds)]"
      ],
      "metadata": {
        "colab": {
          "base_uri": "https://localhost:8080/",
          "height": 35
        },
        "id": "IIME6OsRsap9",
        "outputId": "e28cad1f-b6ae-4d0e-9762-c9a9c5d559e3"
      },
      "execution_count": 35,
      "outputs": [
        {
          "output_type": "execute_result",
          "data": {
            "text/plain": [
              "'arthritis'"
            ],
            "application/vnd.google.colaboratory.intrinsic+json": {
              "type": "string"
            }
          },
          "metadata": {},
          "execution_count": 35
        }
      ]
    },
    {
      "cell_type": "markdown",
      "source": [
        "# Testing Class 2"
      ],
      "metadata": {
        "id": "FhF11v5es3Ht"
      }
    },
    {
      "cell_type": "code",
      "source": [
        "img_path ='/content/test/fracture/fracture_original_1.jpg_e32721de-d588-470e-97b1-7b12c3eed687.jpg'"
      ],
      "metadata": {
        "id": "JUleMG9Ksana"
      },
      "execution_count": 36,
      "outputs": []
    },
    {
      "cell_type": "code",
      "source": [
        "import numpy as np\n",
        "img = load_img(img_path, target_size=(224, 224))\n",
        "x = img_to_array(img)\n",
        "x = preprocess_input(x)\n",
        "preds = vgg16.predict(np.array([x]))\n",
        "preds"
      ],
      "metadata": {
        "colab": {
          "base_uri": "https://localhost:8080/"
        },
        "id": "cACvdAfnsajK",
        "outputId": "3952cd9f-3151-4350-fedc-92df5e0d227e"
      },
      "execution_count": 37,
      "outputs": [
        {
          "output_type": "stream",
          "name": "stdout",
          "text": [
            "1/1 [==============================] - 0s 19ms/step\n"
          ]
        },
        {
          "output_type": "execute_result",
          "data": {
            "text/plain": [
              "array([[5.2963036e-26, 9.9999976e-01, 3.5583524e-24, 1.7941851e-07,\n",
              "        3.2003110e-26, 0.0000000e+00]], dtype=float32)"
            ]
          },
          "metadata": {},
          "execution_count": 37
        }
      ]
    },
    {
      "cell_type": "code",
      "source": [
        "labels[np.argmax(preds)]"
      ],
      "metadata": {
        "colab": {
          "base_uri": "https://localhost:8080/",
          "height": 35
        },
        "id": "0DWZtN6Ps8qW",
        "outputId": "e246100e-ab88-47f3-9c80-7d96054d690b"
      },
      "execution_count": 38,
      "outputs": [
        {
          "output_type": "execute_result",
          "data": {
            "text/plain": [
              "'fracture'"
            ],
            "application/vnd.google.colaboratory.intrinsic+json": {
              "type": "string"
            }
          },
          "metadata": {},
          "execution_count": 38
        }
      ]
    },
    {
      "cell_type": "markdown",
      "source": [
        "# Testing Class 3"
      ],
      "metadata": {
        "id": "nSlRFxcXtMKq"
      }
    },
    {
      "cell_type": "code",
      "source": [
        "img_path ='/content/test/stage_1/stage_1_original_2.jpg_71f7afab-2d7c-4073-9dcc-a4e812804e2f.jpg'"
      ],
      "metadata": {
        "id": "_yn7m_V7s8nY"
      },
      "execution_count": 48,
      "outputs": []
    },
    {
      "cell_type": "code",
      "source": [
        "import numpy as np\n",
        "img = load_img(img_path, target_size=(224, 224))\n",
        "x = img_to_array(img)\n",
        "x = preprocess_input(x)\n",
        "preds = vgg16.predict(np.array([x]))\n",
        "preds"
      ],
      "metadata": {
        "colab": {
          "base_uri": "https://localhost:8080/"
        },
        "id": "Ax7_Ov9Us8k_",
        "outputId": "cf95b77b-9a62-4c36-ba23-482be7dcb556"
      },
      "execution_count": 49,
      "outputs": [
        {
          "output_type": "stream",
          "name": "stdout",
          "text": [
            "1/1 [==============================] - 0s 22ms/step\n"
          ]
        },
        {
          "output_type": "execute_result",
          "data": {
            "text/plain": [
              "array([[0.0000000e+00, 0.0000000e+00, 1.0000000e+00, 1.8864311e-20,\n",
              "        1.0037137e-32, 0.0000000e+00]], dtype=float32)"
            ]
          },
          "metadata": {},
          "execution_count": 49
        }
      ]
    },
    {
      "cell_type": "code",
      "source": [
        "labels[np.argmax(preds)]"
      ],
      "metadata": {
        "colab": {
          "base_uri": "https://localhost:8080/",
          "height": 35
        },
        "id": "L3z2bzvEs8hS",
        "outputId": "4d01cf85-8148-4e04-e0c1-792b53309c51"
      },
      "execution_count": 50,
      "outputs": [
        {
          "output_type": "execute_result",
          "data": {
            "text/plain": [
              "'stage_1'"
            ],
            "application/vnd.google.colaboratory.intrinsic+json": {
              "type": "string"
            }
          },
          "metadata": {},
          "execution_count": 50
        }
      ]
    },
    {
      "cell_type": "markdown",
      "source": [
        "# Testing Class 4"
      ],
      "metadata": {
        "id": "8z30OwbCtS_w"
      }
    },
    {
      "cell_type": "code",
      "source": [
        "img_path ='/content/test/stage_2/stage_2_original_2.jpg_250e07c2-06ac-4e9b-84d3-b261eeea4685.jpg'"
      ],
      "metadata": {
        "id": "1I9DpXeYs8eR"
      },
      "execution_count": 42,
      "outputs": []
    },
    {
      "cell_type": "code",
      "source": [
        "import numpy as np\n",
        "img = load_img(img_path, target_size=(224, 224))\n",
        "x = img_to_array(img)\n",
        "x = preprocess_input(x)\n",
        "preds = vgg16.predict(np.array([x]))\n",
        "preds"
      ],
      "metadata": {
        "colab": {
          "base_uri": "https://localhost:8080/"
        },
        "id": "tZl1Ryfks8br",
        "outputId": "da9adbb2-719c-4343-d177-56746e0e32f4"
      },
      "execution_count": 43,
      "outputs": [
        {
          "output_type": "stream",
          "name": "stdout",
          "text": [
            "1/1 [==============================] - 0s 18ms/step\n"
          ]
        },
        {
          "output_type": "execute_result",
          "data": {
            "text/plain": [
              "array([[0.0000000e+00, 4.0287178e-37, 6.2783683e-27, 1.0000000e+00,\n",
              "        2.7540141e-34, 0.0000000e+00]], dtype=float32)"
            ]
          },
          "metadata": {},
          "execution_count": 43
        }
      ]
    },
    {
      "cell_type": "code",
      "source": [
        "labels[np.argmax(preds)]"
      ],
      "metadata": {
        "colab": {
          "base_uri": "https://localhost:8080/",
          "height": 35
        },
        "id": "xNT6O4Dqs8Zj",
        "outputId": "d4dcfdf4-5c76-4830-80d1-d2defe44a659"
      },
      "execution_count": 44,
      "outputs": [
        {
          "output_type": "execute_result",
          "data": {
            "text/plain": [
              "'stage_2'"
            ],
            "application/vnd.google.colaboratory.intrinsic+json": {
              "type": "string"
            }
          },
          "metadata": {},
          "execution_count": 44
        }
      ]
    },
    {
      "cell_type": "markdown",
      "source": [
        "# Testing Class 5"
      ],
      "metadata": {
        "id": "c_oI-YfitaLK"
      }
    },
    {
      "cell_type": "code",
      "source": [
        "img_path ='/content/test/stage_3/stage_3_original_7.jpg_e82fd6ca-dbd4-402e-94bd-7732614ae0e0.jpg'"
      ],
      "metadata": {
        "id": "QpXoXatAs8XX"
      },
      "execution_count": 60,
      "outputs": []
    },
    {
      "cell_type": "code",
      "source": [
        "import numpy as np\n",
        "img = load_img(img_path, target_size=(224, 224))\n",
        "x = img_to_array(img)\n",
        "x = preprocess_input(x)\n",
        "preds = vgg16.predict(np.array([x]))\n",
        "preds"
      ],
      "metadata": {
        "colab": {
          "base_uri": "https://localhost:8080/"
        },
        "id": "txf4-0hVs8Um",
        "outputId": "93bfc6fe-2ff8-4ddf-832a-9f397a95c33b"
      },
      "execution_count": 61,
      "outputs": [
        {
          "output_type": "stream",
          "name": "stdout",
          "text": [
            "1/1 [==============================] - 0s 19ms/step\n"
          ]
        },
        {
          "output_type": "execute_result",
          "data": {
            "text/plain": [
              "array([[0.0000000e+00, 1.5923744e-28, 2.5179585e-19, 3.9774910e-08,\n",
              "        1.0000000e+00, 0.0000000e+00]], dtype=float32)"
            ]
          },
          "metadata": {},
          "execution_count": 61
        }
      ]
    },
    {
      "cell_type": "code",
      "source": [
        "labels[np.argmax(preds)]"
      ],
      "metadata": {
        "colab": {
          "base_uri": "https://localhost:8080/",
          "height": 35
        },
        "id": "giIvDddMs8SC",
        "outputId": "2612cf1c-1650-4da3-c816-ffb4405179b7"
      },
      "execution_count": 62,
      "outputs": [
        {
          "output_type": "execute_result",
          "data": {
            "text/plain": [
              "'stage_3'"
            ],
            "application/vnd.google.colaboratory.intrinsic+json": {
              "type": "string"
            }
          },
          "metadata": {},
          "execution_count": 62
        }
      ]
    },
    {
      "cell_type": "markdown",
      "source": [
        "# Testing Class 6"
      ],
      "metadata": {
        "id": "PCj2bNM6tfxS"
      }
    },
    {
      "cell_type": "code",
      "source": [
        "img_path ='/content/test/stage_4/stage_4_original_1.jpg_efa31922-d933-4e49-a785-700caff77f10.jpg'"
      ],
      "metadata": {
        "id": "L0P2GWjrs8Pp"
      },
      "execution_count": 69,
      "outputs": []
    },
    {
      "cell_type": "code",
      "source": [
        "import numpy as np\n",
        "img = load_img(img_path, target_size=(224, 224))\n",
        "x = img_to_array(img)\n",
        "x = preprocess_input(x)\n",
        "preds = vgg16.predict(np.array([x]))\n",
        "preds"
      ],
      "metadata": {
        "colab": {
          "base_uri": "https://localhost:8080/"
        },
        "id": "4QDiZJ2rs8NP",
        "outputId": "c967e340-4772-4831-b441-8c57d7a6cbf6"
      },
      "execution_count": 70,
      "outputs": [
        {
          "output_type": "stream",
          "name": "stdout",
          "text": [
            "1/1 [==============================] - 0s 29ms/step\n"
          ]
        },
        {
          "output_type": "execute_result",
          "data": {
            "text/plain": [
              "array([[4.83866613e-10, 0.00000000e+00, 1.27486615e-11, 8.11765378e-19,\n",
              "        3.62939209e-01, 6.37060761e-01]], dtype=float32)"
            ]
          },
          "metadata": {},
          "execution_count": 70
        }
      ]
    },
    {
      "cell_type": "code",
      "source": [
        "labels[np.argmax(preds)]"
      ],
      "metadata": {
        "colab": {
          "base_uri": "https://localhost:8080/",
          "height": 35
        },
        "id": "Zr1-Uyiqs8Kn",
        "outputId": "a97bdf27-c69f-4a09-ac08-5b17fcf72872"
      },
      "execution_count": 71,
      "outputs": [
        {
          "output_type": "execute_result",
          "data": {
            "text/plain": [
              "'stage_4'"
            ],
            "application/vnd.google.colaboratory.intrinsic+json": {
              "type": "string"
            }
          },
          "metadata": {},
          "execution_count": 71
        }
      ]
    }
  ]
}